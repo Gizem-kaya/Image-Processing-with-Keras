{
  "nbformat": 4,
  "nbformat_minor": 0,
  "metadata": {
    "colab": {
      "name": "Improving_Deep_Convolutional_Networks.ipynb",
      "provenance": [],
      "toc_visible": true
    },
    "kernelspec": {
      "name": "python3",
      "display_name": "Python 3"
    }
  },
  "cells": [
    {
      "cell_type": "markdown",
      "metadata": {
        "id": "cpMyZu8z76hy",
        "colab_type": "text"
      },
      "source": [
        "# **Improving Deep Convolutional Networks**"
      ]
    },
    {
      "cell_type": "code",
      "metadata": {
        "id": "X5LGcoHN9L35",
        "colab_type": "code",
        "colab": {}
      },
      "source": [
        "from keras.models import Sequential\n",
        "from keras.layers import Conv2D, Dense, Flatten\n",
        "import matplotlib.pyplot as plt"
      ],
      "execution_count": 1,
      "outputs": []
    },
    {
      "cell_type": "markdown",
      "metadata": {
        "id": "wlwgiSs278_Z",
        "colab_type": "text"
      },
      "source": [
        "## **Tracking learning**"
      ]
    },
    {
      "cell_type": "markdown",
      "metadata": {
        "id": "gecxct9A-hZU",
        "colab_type": "text"
      },
      "source": [
        "* Plotting the learning and validation loss curves for a model:"
      ]
    },
    {
      "cell_type": "code",
      "metadata": {
        "id": "8ZE6toO87vQe",
        "colab_type": "code",
        "colab": {}
      },
      "source": [
        "training = model.fit(train_data, train_labels, validation_split = 0.2, epochs = 3, batch_size = 10)"
      ],
      "execution_count": null,
      "outputs": []
    },
    {
      "cell_type": "markdown",
      "metadata": {
        "id": "t5Vi0VqO-2Mt",
        "colab_type": "text"
      },
      "source": [
        "Training the model and store the training object."
      ]
    },
    {
      "cell_type": "code",
      "metadata": {
        "id": "GDaCje_--y7p",
        "colab_type": "code",
        "colab": {}
      },
      "source": [
        "history = training.history"
      ],
      "execution_count": null,
      "outputs": []
    },
    {
      "cell_type": "markdown",
      "metadata": {
        "id": "6xW4MHN6-2b4",
        "colab_type": "text"
      },
      "source": [
        "Extracting the history from the training object."
      ]
    },
    {
      "cell_type": "code",
      "metadata": {
        "id": "TNLJiFww-0Hz",
        "colab_type": "code",
        "colab": {}
      },
      "source": [
        "plt.plot(history['loss'])\n",
        "plt.plot(history['val_loss'])\n",
        "\n",
        "plt.show()"
      ],
      "execution_count": null,
      "outputs": []
    },
    {
      "cell_type": "markdown",
      "metadata": {
        "id": "au95hZ-p_EmD",
        "colab_type": "text"
      },
      "source": [
        "Plotting the training loss and validation loss."
      ]
    },
    {
      "cell_type": "markdown",
      "metadata": {
        "id": "bzD9GAGu_-Jp",
        "colab_type": "text"
      },
      "source": [
        "Model weights stored in an hdf5 file can be reused to populate an untrained model. Once the weights are loaded into this model, it behaves just like a model that has been trained to reach these weights. To use stored weights to predict in a test set :"
      ]
    },
    {
      "cell_type": "code",
      "metadata": {
        "id": "t1t694yyAHfG",
        "colab_type": "code",
        "colab": {}
      },
      "source": [
        "model.load_weights('weights.hdf5')"
      ],
      "execution_count": null,
      "outputs": []
    },
    {
      "cell_type": "markdown",
      "metadata": {
        "id": "plAsSJCyAhn0",
        "colab_type": "text"
      },
      "source": [
        "Loading the weights from file."
      ]
    },
    {
      "cell_type": "code",
      "metadata": {
        "id": "Qsmtq_76AgdF",
        "colab_type": "code",
        "colab": {}
      },
      "source": [
        "model.predict(test_data[0:3]) "
      ],
      "execution_count": null,
      "outputs": []
    },
    {
      "cell_type": "markdown",
      "metadata": {
        "id": "WP8AV5PWAljW",
        "colab_type": "text"
      },
      "source": [
        "Predicting from the first three images in a test data."
      ]
    }
  ]
}