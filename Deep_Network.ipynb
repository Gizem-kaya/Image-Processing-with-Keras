{
  "nbformat": 4,
  "nbformat_minor": 0,
  "metadata": {
    "colab": {
      "name": "Deep_Network.ipynb",
      "provenance": [],
      "toc_visible": true
    },
    "kernelspec": {
      "name": "python3",
      "display_name": "Python 3"
    }
  },
  "cells": [
    {
      "cell_type": "markdown",
      "metadata": {
        "id": "1enTlZdO0uIX",
        "colab_type": "text"
      },
      "source": [
        "# **Deep Network**\n",
        "\n",
        "Networks with more convolution layers are called \"deep\" networks, and they may have more power to fit complex data, because of their ability to create hierarchical representations of the data that they fit."
      ]
    },
    {
      "cell_type": "code",
      "metadata": {
        "id": "7r2wLOK32YWY",
        "colab_type": "code",
        "colab": {}
      },
      "source": [
        "from keras.models import Sequential\n",
        "from keras.layers import Dense, Conv2D, Flatten"
      ],
      "execution_count": null,
      "outputs": []
    },
    {
      "cell_type": "markdown",
      "metadata": {
        "id": "eQnVz_Mx4r1H",
        "colab_type": "text"
      },
      "source": [
        "### **Build a deep CNN**\n"
      ]
    },
    {
      "cell_type": "code",
      "metadata": {
        "id": "nbZuM_wOykpQ",
        "colab_type": "code",
        "colab": {}
      },
      "source": [
        "model = Sequential()"
      ],
      "execution_count": null,
      "outputs": []
    },
    {
      "cell_type": "markdown",
      "metadata": {
        "id": "9bEkJctQ2fmv",
        "colab_type": "text"
      },
      "source": [
        "Initializing the model object."
      ]
    },
    {
      "cell_type": "code",
      "metadata": {
        "id": "5ite3p_a2cFq",
        "colab_type": "code",
        "colab": {}
      },
      "source": [
        "model.add(Conv2D(15, kernel_size = 2, activation = 'relu', input_shape = (img_rows, img_cols, 1)))\n",
        "model.add(Conv2D(5, kernel_size = 2, activation = 'relu'))"
      ],
      "execution_count": null,
      "outputs": []
    },
    {
      "cell_type": "markdown",
      "metadata": {
        "id": "aVDg7Mq1CtFH",
        "colab_type": "text"
      },
      "source": [
        ""
      ]
    },
    {
      "cell_type": "markdown",
      "metadata": {
        "id": "qZwXqtcY2gCe",
        "colab_type": "text"
      },
      "source": [
        "After adding a convolutional layer with 15 units, add another convolutional layer with 5 units."
      ]
    },
    {
      "cell_type": "code",
      "metadata": {
        "id": "54oVL7W52b9t",
        "colab_type": "code",
        "colab": {}
      },
      "source": [
        "model.add(Flatten())\n",
        "model.add(Dense(3, activation='softmax'))"
      ],
      "execution_count": null,
      "outputs": []
    },
    {
      "cell_type": "markdown",
      "metadata": {
        "id": "QMCkkTTW2xDs",
        "colab_type": "text"
      },
      "source": [
        " Flattening and feeding to the output layer."
      ]
    },
    {
      "cell_type": "markdown",
      "metadata": {
        "id": "ZZ2swjkMCWuL",
        "colab_type": "text"
      },
      "source": [
        "In this model of the convolutional neural network we used a construction like: \n",
        "\n",
        "**Convolution Layer(15)  ->  Convolution Layer(5)  ->  Flatten  ->  Dense Layer(3)**\n",
        "\n"
      ]
    },
    {
      "cell_type": "markdown",
      "metadata": {
        "id": "sEkM9U754y73",
        "colab_type": "text"
      },
      "source": [
        "### **Train a deep CNN**"
      ]
    },
    {
      "cell_type": "code",
      "metadata": {
        "id": "xYIyGvA04mTT",
        "colab_type": "code",
        "colab": {}
      },
      "source": [
        "model.compile(optimizer='adam', \n",
        "              loss='categorical_crossentropy', \n",
        "              metrics=['accuracy'])\n"
      ],
      "execution_count": null,
      "outputs": []
    },
    {
      "cell_type": "markdown",
      "metadata": {
        "id": "VuZnIPdE-4G4",
        "colab_type": "text"
      },
      "source": [
        ""
      ]
    },
    {
      "cell_type": "markdown",
      "metadata": {
        "id": "JFcBUDOV5C2F",
        "colab_type": "text"
      },
      "source": [
        "Compiling the model."
      ]
    },
    {
      "cell_type": "code",
      "metadata": {
        "id": "3iIeQWnr4nzl",
        "colab_type": "code",
        "colab": {}
      },
      "source": [
        "model.fit(train_data, train_labels, \n",
        "          validation_split=0.2, \n",
        "          epochs=3, batch_size=10)\n"
      ],
      "execution_count": null,
      "outputs": []
    },
    {
      "cell_type": "markdown",
      "metadata": {
        "id": "CXQfj1QQ5DtZ",
        "colab_type": "text"
      },
      "source": [
        "Fitting the model on a training set."
      ]
    },
    {
      "cell_type": "code",
      "metadata": {
        "id": "qbvxMaMM4oj5",
        "colab_type": "code",
        "colab": {}
      },
      "source": [
        "model.evaluate(test_data, test_labels, batch_size=10)"
      ],
      "execution_count": null,
      "outputs": []
    },
    {
      "cell_type": "markdown",
      "metadata": {
        "id": "R33X0Q9E5Fbu",
        "colab_type": "text"
      },
      "source": [
        "Evaluating the model on separate test data."
      ]
    },
    {
      "cell_type": "markdown",
      "metadata": {
        "id": "u5mZdZKz370f",
        "colab_type": "text"
      },
      "source": [
        "## **Parameters**\n",
        "\n",
        "We can use Keras to calculate the total number of parameters along with the number of parameters in each layer of the network."
      ]
    },
    {
      "cell_type": "code",
      "metadata": {
        "id": "5XudC-Kx-5wv",
        "colab_type": "code",
        "colab": {}
      },
      "source": [
        "model.summary()"
      ],
      "execution_count": null,
      "outputs": []
    },
    {
      "cell_type": "markdown",
      "metadata": {
        "id": "YsEYUNux38Nn",
        "colab_type": "text"
      },
      "source": [
        "## **Pooling Operations**\n",
        "CNNs can have a lot of parameters. Pooling layers are often added between the convolutional layers of a neural network to summarize their outputs in a condensed manner, and reduce the number of parameters in the next layer in the network. This can help us if we want to train the network more rapidly, or if we don't have enough data to learn a very large number of parameters."
      ]
    },
    {
      "cell_type": "markdown",
      "metadata": {
        "id": "r4avzi5uBPAx",
        "colab_type": "text"
      },
      "source": [
        "**Pooling Algorithm**\n",
        "\n"
      ]
    },
    {
      "cell_type": "code",
      "metadata": {
        "id": "RYhFzbrUBMIS",
        "colab_type": "code",
        "colab": {}
      },
      "source": [
        "result = np.zeros((im.shape[0]//2, im.shape[1]//2))"
      ],
      "execution_count": null,
      "outputs": []
    },
    {
      "cell_type": "markdown",
      "metadata": {
        "id": "q8a4uctTBe7z",
        "colab_type": "text"
      },
      "source": [
        "Creation of result placeholder."
      ]
    },
    {
      "cell_type": "code",
      "metadata": {
        "id": "hyrXBsXyBciS",
        "colab_type": "code",
        "colab": {}
      },
      "source": [
        "for ii in range(result.shape[0]):\n",
        "    for jj in range(result.shape[1]):\n",
        "        result[ii, jj] = np.max(im[ii*2:ii*2+2, jj*2:jj*2+2])"
      ],
      "execution_count": null,
      "outputs": []
    },
    {
      "cell_type": "markdown",
      "metadata": {
        "id": "yUfRVN70BnCJ",
        "colab_type": "text"
      },
      "source": [
        "Pooling operation."
      ]
    },
    {
      "cell_type": "markdown",
      "metadata": {
        "id": "9kqD09xEBKpb",
        "colab_type": "text"
      },
      "source": [
        "**Keras Pooling Layers**\n",
        "\n",
        "Keras implements a pooling operation as a layer that can be added to CNNs between other layers."
      ]
    },
    {
      "cell_type": "code",
      "metadata": {
        "id": "4OKvLJtWBylC",
        "colab_type": "code",
        "colab": {}
      },
      "source": [
        "model.add(Conv2D(15, kernel_size=2, activation='relu', \n",
        "                 input_shape=(img_rows, img_cols, 1)))\n",
        "\n",
        "# Add a pooling operation\n",
        "model.add(MaxPool2D(2))\n",
        "\n",
        "model.add(Conv2D(5,kernel_size = 2, activation = 'relu'))\n",
        "\n",
        "model.add(Flatten())\n",
        "model.add(Dense(3, activation='softmax'))\n",
        "model.summary()"
      ],
      "execution_count": null,
      "outputs": []
    },
    {
      "cell_type": "markdown",
      "metadata": {
        "id": "0E1QEy7yDcv8",
        "colab_type": "text"
      },
      "source": [
        "As we did in this cell, if we add pooling layers between the layers that we build before, we can reduce the parameters we had in the model. So the construction is changed like :\n",
        "\n",
        "**Convolution Layer(15)  ->  Max pooling(2)  ->  Convolution Layer(5)  ->  Flatten  ->  Dense Layer(3)**\n"
      ]
    }
  ]
}