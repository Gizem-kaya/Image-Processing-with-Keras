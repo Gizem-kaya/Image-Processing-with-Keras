{
  "nbformat": 4,
  "nbformat_minor": 0,
  "metadata": {
    "colab": {
      "name": "Deep_Network.ipynb",
      "provenance": [],
      "toc_visible": true
    },
    "kernelspec": {
      "name": "python3",
      "display_name": "Python 3"
    }
  },
  "cells": [
    {
      "cell_type": "markdown",
      "metadata": {
        "id": "1enTlZdO0uIX",
        "colab_type": "text"
      },
      "source": [
        "# **Deep Network**\n",
        "\n",
        "Networks with more convolution layers are called \"deep\" networks, and they may have more power to fit complex data, because of their ability to create hierarchical representations of the data that they fit."
      ]
    },
    {
      "cell_type": "code",
      "metadata": {
        "id": "7r2wLOK32YWY",
        "colab_type": "code",
        "colab": {}
      },
      "source": [
        "from keras.models import Sequential\n",
        "from keras.layers import Dense, Conv2D, Flatten"
      ],
      "execution_count": null,
      "outputs": []
    },
    {
      "cell_type": "markdown",
      "metadata": {
        "id": "eQnVz_Mx4r1H",
        "colab_type": "text"
      },
      "source": [
        "### **Build a deep CNN**\n"
      ]
    },
    {
      "cell_type": "code",
      "metadata": {
        "id": "nbZuM_wOykpQ",
        "colab_type": "code",
        "colab": {}
      },
      "source": [
        "model = Sequential()"
      ],
      "execution_count": null,
      "outputs": []
    },
    {
      "cell_type": "markdown",
      "metadata": {
        "id": "9bEkJctQ2fmv",
        "colab_type": "text"
      },
      "source": [
        "Initializing the model object."
      ]
    },
    {
      "cell_type": "code",
      "metadata": {
        "id": "5ite3p_a2cFq",
        "colab_type": "code",
        "colab": {}
      },
      "source": [
        "model.add(Conv2D(15, kernel_size = 2, activation = 'relu', input_shape = (img_rows, img_cols, 1)))\n",
        "model.add(Conv2D(5, kernel_size = 2, activation = 'relu'))"
      ],
      "execution_count": null,
      "outputs": []
    },
    {
      "cell_type": "markdown",
      "metadata": {
        "id": "qZwXqtcY2gCe",
        "colab_type": "text"
      },
      "source": [
        "After adding a convolutional layer with 15 units, add another convolutional layer with 5 units."
      ]
    },
    {
      "cell_type": "code",
      "metadata": {
        "id": "54oVL7W52b9t",
        "colab_type": "code",
        "colab": {}
      },
      "source": [
        "model.add(Flatten())\n",
        "model.add(Dense(3, activation='softmax'))"
      ],
      "execution_count": null,
      "outputs": []
    },
    {
      "cell_type": "markdown",
      "metadata": {
        "id": "eOi02qtQ44vM",
        "colab_type": "text"
      },
      "source": [
        ""
      ]
    },
    {
      "cell_type": "markdown",
      "metadata": {
        "id": "QMCkkTTW2xDs",
        "colab_type": "text"
      },
      "source": [
        " Flattening and feeding to the output layer."
      ]
    },
    {
      "cell_type": "markdown",
      "metadata": {
        "id": "sEkM9U754y73",
        "colab_type": "text"
      },
      "source": [
        "### **Train a deep CNN**"
      ]
    },
    {
      "cell_type": "code",
      "metadata": {
        "id": "xYIyGvA04mTT",
        "colab_type": "code",
        "colab": {}
      },
      "source": [
        "model.compile(optimizer='adam', \n",
        "              loss='categorical_crossentropy', \n",
        "              metrics=['accuracy'])\n"
      ],
      "execution_count": null,
      "outputs": []
    },
    {
      "cell_type": "markdown",
      "metadata": {
        "id": "JFcBUDOV5C2F",
        "colab_type": "text"
      },
      "source": [
        "Compiling the model."
      ]
    },
    {
      "cell_type": "code",
      "metadata": {
        "id": "3iIeQWnr4nzl",
        "colab_type": "code",
        "colab": {}
      },
      "source": [
        "model.fit(train_data, train_labels, \n",
        "          validation_split=0.2, \n",
        "          epochs=3, batch_size=10)\n"
      ],
      "execution_count": null,
      "outputs": []
    },
    {
      "cell_type": "markdown",
      "metadata": {
        "id": "CXQfj1QQ5DtZ",
        "colab_type": "text"
      },
      "source": [
        "Fitting the model on a training set."
      ]
    },
    {
      "cell_type": "code",
      "metadata": {
        "id": "qbvxMaMM4oj5",
        "colab_type": "code",
        "colab": {}
      },
      "source": [
        "model.evaluate(test_data, test_labels, batch_size=10)"
      ],
      "execution_count": null,
      "outputs": []
    },
    {
      "cell_type": "markdown",
      "metadata": {
        "id": "R33X0Q9E5Fbu",
        "colab_type": "text"
      },
      "source": [
        "Evaluating the model on separate test data."
      ]
    },
    {
      "cell_type": "markdown",
      "metadata": {
        "id": "u5mZdZKz370f",
        "colab_type": "text"
      },
      "source": [
        "## **Parameters**"
      ]
    },
    {
      "cell_type": "markdown",
      "metadata": {
        "id": "YsEYUNux38Nn",
        "colab_type": "text"
      },
      "source": [
        "## **Pooling Operations**"
      ]
    }
  ]
}