{
  "nbformat": 4,
  "nbformat_minor": 0,
  "metadata": {
    "colab": {
      "name": "Convolutions.ipynb",
      "provenance": []
    },
    "kernelspec": {
      "name": "python3",
      "display_name": "Python 3"
    }
  },
  "cells": [
    {
      "cell_type": "markdown",
      "metadata": {
        "id": "83lxNBpJ2LaG",
        "colab_type": "text"
      },
      "source": [
        "# **Convolution Usage**"
      ]
    },
    {
      "cell_type": "code",
      "metadata": {
        "id": "bpy4J_sm5BkB",
        "colab_type": "code",
        "colab": {}
      },
      "source": [
        "import numpy as np\n",
        "import matplotlib.pyplot as plt\n",
        "from skimage import color\n",
        "from keras.models import Sequential\n",
        "from keras.layers import Dense, Conv2D, Flatten\n"
      ],
      "execution_count": 1,
      "outputs": []
    },
    {
      "cell_type": "markdown",
      "metadata": {
        "id": "t-se_Y6J2Ogd",
        "colab_type": "text"
      },
      "source": [
        "## **Convolutions**"
      ]
    },
    {
      "cell_type": "code",
      "metadata": {
        "id": "c_oNqJaR49d2",
        "colab_type": "code",
        "colab": {}
      },
      "source": [
        "array = np.array([1, 0, 1, 0, 1, 0, 1, 0, 1, 0])\n",
        "kernel = np.array([1, -1, 0])\n",
        "conv = np.array([0, 0, 0, 0, 0, 0, 0, 0, 0, 0])"
      ],
      "execution_count": 2,
      "outputs": []
    },
    {
      "cell_type": "code",
      "metadata": {
        "id": "daoQptz34-1L",
        "colab_type": "code",
        "colab": {
          "base_uri": "https://localhost:8080/",
          "height": 34
        },
        "outputId": "71270d61-b3fb-4733-a795-c0fb95a110ba"
      },
      "source": [
        "for ii in range(8):\n",
        "    conv[ii] = (kernel * array[ii:ii+3]).sum()\n",
        "\n",
        "print(conv)"
      ],
      "execution_count": 3,
      "outputs": [
        {
          "output_type": "stream",
          "text": [
            "[ 1 -1  1 -1  1 -1  1 -1  0  0]\n"
          ],
          "name": "stdout"
        }
      ]
    },
    {
      "cell_type": "code",
      "metadata": {
        "id": "ehqKhicD8mXD",
        "colab_type": "code",
        "colab": {
          "base_uri": "https://localhost:8080/",
          "height": 269
        },
        "outputId": "20cb63f3-66b7-4263-fe8e-85cf298cb936"
      },
      "source": [
        "image = plt.imread('dress.jpg')\n",
        "image = color.rgb2gray(image)\n",
        "plt.imshow(image, cmap=\"gray\")  \n",
        "plt.show()"
      ],
      "execution_count": 4,
      "outputs": [
        {
          "output_type": "display_data",
          "data": {
            "image/png": "[encoded data removed]",
            "text/plain": [
              "<Figure size 432x288 with 1 Axes>"
            ]
          },
          "metadata": {
            "tags": [],
            "needs_background": "light"
          }
        }
      ]
    },
    {
      "cell_type": "markdown",
      "metadata": {
        "id": "M5Mdj4nk-Bp6",
        "colab_type": "text"
      },
      "source": [
        "imshow(), by default, uses a kind of heatmap (called viridis) to display the image intensities. So we should specify the grayscale colormap while displaying an image."
      ]
    },
    {
      "cell_type": "code",
      "metadata": {
        "id": "_xZP91xL8SLa",
        "colab_type": "code",
        "colab": {
          "base_uri": "https://localhost:8080/",
          "height": 134
        },
        "outputId": "2eec8731-8fad-4cef-aae6-d4e2f4dff592"
      },
      "source": [
        "kernel = np.array([[0, 1, 0], [1, 1, 1], [0, 1, 0]])\n",
        "result = np.zeros(image.shape)\n",
        "\n",
        "# Output array\n",
        "for ii in range(image.shape[0] - 3):\n",
        "    for jj in range(image.shape[1] - 3):\n",
        "        result[ii, jj] = (image[ii:ii+3, jj:jj+3] * kernel).sum()\n",
        "\n",
        "# Print result\n",
        "print(result)"
      ],
      "execution_count": 5,
      "outputs": [
        {
          "output_type": "stream",
          "text": [
            "[[4.76187843 4.76187843 4.76187843 ... 0.         0.         0.        ]\n",
            " [4.76187843 4.76187843 4.76187843 ... 0.         0.         0.        ]\n",
            " [4.76187843 4.76187843 4.76187843 ... 0.         0.         0.        ]\n",
            " ...\n",
            " [0.         0.         0.         ... 0.         0.         0.        ]\n",
            " [0.         0.         0.         ... 0.         0.         0.        ]\n",
            " [0.         0.         0.         ... 0.         0.         0.        ]]\n"
          ],
          "name": "stdout"
        }
      ]
    },
    {
      "cell_type": "markdown",
      "metadata": {
        "id": "3Et9rB9r-m3p",
        "colab_type": "text"
      },
      "source": [
        "* To be able to finding a particular feature, we should define different \n",
        "kernels. Here are some examples of kernels used for various purposes:"
      ]
    },
    {
      "cell_type": "markdown",
      "metadata": {
        "id": "0unvfkfd_npD",
        "colab_type": "text"
      },
      "source": [
        "**1. Horizontal lines in images:**\n",
        "\n",
        "\n",
        "\n"
      ]
    },
    {
      "cell_type": "code",
      "metadata": {
        "id": "m2wySOAs_zeU",
        "colab_type": "code",
        "colab": {}
      },
      "source": [
        "kernel = np.array([[-1, -1, -1], \n",
        "                   [1, 1, 1],\n",
        "                   [-1, -1, -1]])"
      ],
      "execution_count": 6,
      "outputs": []
    },
    {
      "cell_type": "markdown",
      "metadata": {
        "id": "IUzXJAM7_3b3",
        "colab_type": "text"
      },
      "source": [
        "**2. Light spot surrounded by dark pixels:**"
      ]
    },
    {
      "cell_type": "code",
      "metadata": {
        "id": "T7OgDtaQAImb",
        "colab_type": "code",
        "colab": {}
      },
      "source": [
        "kernel = np.array([[-1, -1, -1], \n",
        "                   [-1, 1, -1],\n",
        "                   [-1, -1, -1]])"
      ],
      "execution_count": 7,
      "outputs": []
    },
    {
      "cell_type": "markdown",
      "metadata": {
        "id": "2eAyAPmgAQvV",
        "colab_type": "text"
      },
      "source": [
        "**3. Dark spot surrounded by bright pixels:**"
      ]
    },
    {
      "cell_type": "code",
      "metadata": {
        "id": "aRRqrasqAvPg",
        "colab_type": "code",
        "colab": {}
      },
      "source": [
        "kernel = np.array([[1, 1, 1], \n",
        "                   [1, -1, 1],\n",
        "                   [1, 1, 1]])"
      ],
      "execution_count": 8,
      "outputs": []
    },
    {
      "cell_type": "markdown",
      "metadata": {
        "id": "kuMn-rCo2OXI",
        "colab_type": "text"
      },
      "source": [
        "## **Implementing image convolutions in Keras**"
      ]
    },
    {
      "cell_type": "code",
      "metadata": {
        "id": "TdafEvjUDFh2",
        "colab_type": "code",
        "colab": {}
      },
      "source": [
        "model = Sequential()\n"
      ],
      "execution_count": 9,
      "outputs": []
    },
    {
      "cell_type": "markdown",
      "metadata": {
        "id": "Ug0tYP8fDKBn",
        "colab_type": "text"
      },
      "source": [
        "Initializing the model object."
      ]
    },
    {
      "cell_type": "code",
      "metadata": {
        "id": "vXSIHlRcDJa0",
        "colab_type": "code",
        "colab": {}
      },
      "source": [
        "model.add(Conv2D(10, kernel_size=3, activation='relu', \n",
        "               input_shape=(225, 225,  1)))"
      ],
      "execution_count": 10,
      "outputs": []
    },
    {
      "cell_type": "markdown",
      "metadata": {
        "id": "EDU3UgozDS7w",
        "colab_type": "text"
      },
      "source": [
        "Adding a convolutional layer."
      ]
    },
    {
      "cell_type": "code",
      "metadata": {
        "id": "kwT-FGQCDJu7",
        "colab_type": "code",
        "colab": {}
      },
      "source": [
        "model.add(Flatten())"
      ],
      "execution_count": 11,
      "outputs": []
    },
    {
      "cell_type": "markdown",
      "metadata": {
        "id": "WWTv-cX1DrG4",
        "colab_type": "text"
      },
      "source": [
        "Flattening the output of the convolutional layer."
      ]
    },
    {
      "cell_type": "code",
      "metadata": {
        "id": "05QxxRtQDQ4Q",
        "colab_type": "code",
        "colab": {}
      },
      "source": [
        "model.add(Dense(3, activation='softmax'))"
      ],
      "execution_count": 12,
      "outputs": []
    },
    {
      "cell_type": "markdown",
      "metadata": {
        "id": "P1VHDY1nDuNz",
        "colab_type": "text"
      },
      "source": [
        "Adding an output layer for the 3 categories."
      ]
    },
    {
      "cell_type": "code",
      "metadata": {
        "id": "9CJaPXGtEUQH",
        "colab_type": "code",
        "colab": {}
      },
      "source": [
        "model.compile(optimizer='adam', \n",
        "              loss='categorical_crossentropy', \n",
        "              metrics=['accuracy'])\n"
      ],
      "execution_count": 13,
      "outputs": []
    },
    {
      "cell_type": "markdown",
      "metadata": {
        "id": "vhW15Y_OEWj0",
        "colab_type": "text"
      },
      "source": [
        "Compiling the model."
      ]
    },
    {
      "cell_type": "code",
      "metadata": {
        "id": "Q5o86UI-MQob",
        "colab_type": "code",
        "colab": {}
      },
      "source": [
        "model.fit(train_data, train_labels, \n",
        "          validation_split=0.2, \n",
        "          epochs=3, batch_size=10)"
      ],
      "execution_count": null,
      "outputs": []
    },
    {
      "cell_type": "markdown",
      "metadata": {
        "id": "IKa7E9cfEb3W",
        "colab_type": "text"
      },
      "source": [
        "Fitting the model on a training set."
      ]
    },
    {
      "cell_type": "code",
      "metadata": {
        "id": "FLlQ4MCsE_aq",
        "colab_type": "code",
        "colab": {}
      },
      "source": [
        "model.evaluate(test_data, test_labels, batch_size=10)"
      ],
      "execution_count": null,
      "outputs": []
    },
    {
      "cell_type": "markdown",
      "metadata": {
        "id": "k0GIoD-6FBG6",
        "colab_type": "text"
      },
      "source": [
        "Evaluating the model on separate test data."
      ]
    },
    {
      "cell_type": "markdown",
      "metadata": {
        "id": "LfWIzVTY2OPj",
        "colab_type": "text"
      },
      "source": [
        "## **Tweaking your convolutions**"
      ]
    },
    {
      "cell_type": "markdown",
      "metadata": {
        "id": "EGF1ljihGc_o",
        "colab_type": "text"
      },
      "source": [
        "### **Add padding to a CNN**\n",
        "Padding allows a convolutional layer to retain the resolution of the input into this layer. This is done by adding zeros around the edges of the input image, so that the convolution kernel can overlap with the pixels on the edge of the image."
      ]
    },
    {
      "cell_type": "code",
      "metadata": {
        "id": "02NwckmBGcsO",
        "colab_type": "code",
        "colab": {}
      },
      "source": [
        "model = Sequential()\n",
        "\n",
        "model.add(Conv2D(10, kernel_size=3, activation='relu', \n",
        "                 input_shape=(225, 225, 1), \n",
        "                 padding = 'same'))  # by default padding = 'valid'\n",
        "\n",
        "model.add(Flatten())\n",
        "model.add(Dense(3, activation='softmax'))"
      ],
      "execution_count": null,
      "outputs": []
    },
    {
      "cell_type": "markdown",
      "metadata": {
        "id": "6Y8311aJJfhx",
        "colab_type": "text"
      },
      "source": [
        "### **Add strides to a convolutional network**\n",
        "The size of the strides of the convolution kernel determines whether the kernel will skip over some of the pixels as it slides along the image. This affects the size of the output because when strides are larger than one, the kernel will be centered on only some of the pixels."
      ]
    },
    {
      "cell_type": "code",
      "metadata": {
        "id": "00NO8jjcJfQI",
        "colab_type": "code",
        "colab": {}
      },
      "source": [
        "model.add(Conv2D(10, kernel_size=3, activation='relu', \n",
        "              input_shape=(225, 225, 1), \n",
        "              strides = 2))     # by default strides = 1"
      ],
      "execution_count": null,
      "outputs": []
    },
    {
      "cell_type": "markdown",
      "metadata": {
        "id": "QYYVuGLlKapw",
        "colab_type": "text"
      },
      "source": [
        "### **Calculation the size of convolutional layer output**"
      ]
    },
    {
      "cell_type": "markdown",
      "metadata": {
        "id": "sI9JHHcFKiK_",
        "colab_type": "text"
      },
      "source": [
        "O = (( I - K + 2P ) / S ) + 1\n",
        "\n",
        "* I = size of the input\n",
        "* K = size of the kernels\n",
        "* P = size of the zero padding\n",
        "* S = strides"
      ]
    },
    {
      "cell_type": "markdown",
      "metadata": {
        "id": "2MSs0J-rK_Tl",
        "colab_type": "text"
      },
      "source": [
        "For example the size of the output for an input of size 28 by 28, with a kernel of size 6 by 6, padding of 1 and strides of 2,\n",
        "\n",
        "Output Size = ( ( 28 - 6 + 2 ) / 2 ) + 1 = 13"
      ]
    }
  ]
}